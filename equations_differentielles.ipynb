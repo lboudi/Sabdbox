{
 "cells": [
  {
   "cell_type": "markdown",
   "metadata": {},
   "source": [
    "# VERIFICATION DU CALCUL SUR LES EQUATIONS DIFFERENTIELLES "
   ]
  },
  {
   "cell_type": "code",
   "execution_count": 98,
   "metadata": {},
   "outputs": [],
   "source": [
    "a = var('a')\n",
    "b = var('b')\n",
    "c = var('c')\n",
    "t = var('t')\n",
    "u = var('u')\n",
    "delta = var('delta')\n",
    "alpha = var('alpha')\n",
    "beta = var('beta')\n",
    "y_0 = var('y_0')\n",
    "v_0 = var('v_0')"
   ]
  },
  {
   "cell_type": "code",
   "execution_count": 99,
   "metadata": {},
   "outputs": [],
   "source": [
    "delta = b**2 - 4*a*c\n",
    "alpha = (-b - sqrt(delta))/(2*a)\n",
    "beta = (-b + sqrt(delta))/(2*a)"
   ]
  },
  {
   "cell_type": "code",
   "execution_count": 75,
   "metadata": {},
   "outputs": [],
   "source": [
    "#from sage.symbolic.function import BuiltinFunction\n",
    "#class F(BuiltinFunction):\n",
    "#    def __init__(self):\n",
    "#        BuiltinFunction.__init__(self, 'sin', nargs=0)\n",
    "#    def _eval_(self, *args):\n",
    "#        pass"
   ]
  },
  {
   "cell_type": "code",
   "execution_count": 72,
   "metadata": {},
   "outputs": [],
   "source": [
    "#f = function(\"sin\", nargs=1)"
   ]
  },
  {
   "cell_type": "code",
   "execution_count": 76,
   "metadata": {},
   "outputs": [
    {
     "data": {
      "text/plain": [
       "sin(t)"
      ]
     },
     "execution_count": 76,
     "metadata": {},
     "output_type": "execute_result"
    }
   ],
   "source": [
    "#f = F()\n",
    "#f(t)"
   ]
  },
  {
   "cell_type": "code",
   "execution_count": 101,
   "metadata": {},
   "outputs": [],
   "source": [
    "F(a,b,c,y_0,v_0) = (exp(alpha*t)*integral(-sin(u)*exp(-alpha*u),u,0,t) + exp(beta*t)*integral(sin(u)*exp(-beta*u),u,0,t) + beta*y_0*exp(alpha*t) - alpha*y_0*exp(beta*t) - v_0*exp(alpha*t) + v_0*exp(beta*t))/(beta-alpha)"
   ]
  },
  {
   "cell_type": "code",
   "execution_count": 110,
   "metadata": {},
   "outputs": [],
   "source": [
    "P(t) = F(1,0,-1,1,1)"
   ]
  },
  {
   "cell_type": "code",
   "execution_count": 111,
   "metadata": {},
   "outputs": [],
   "source": [
    "S(t,a,b,c) = a*(P.derivative(t)).derivative(t) + b*P.derivative(t) + c*P"
   ]
  },
  {
   "cell_type": "code",
   "execution_count": 115,
   "metadata": {},
   "outputs": [
    {
     "data": {
      "image/png": "[encoded data removed]",
      "text/plain": [
       "Graphics object consisting of 1 graphics primitive"
      ]
     },
     "execution_count": 115,
     "metadata": {},
     "output_type": "execute_result"
    }
   ],
   "source": [
    "T(t) = S(t,1,0,-1)\n",
    "plot(T,t,0,pi)"
   ]
  },
  {
   "cell_type": "code",
   "execution_count": 116,
   "metadata": {},
   "outputs": [
    {
     "data": {
      "text/plain": [
       "1"
      ]
     },
     "execution_count": 116,
     "metadata": {},
     "output_type": "execute_result"
    }
   ],
   "source": [
    "T(pi/2)"
   ]
  },
  {
   "cell_type": "code",
   "execution_count": 117,
   "metadata": {},
   "outputs": [
    {
     "data": {
      "text/plain": [
       "t |--> sin(t)"
      ]
     },
     "execution_count": 117,
     "metadata": {},
     "output_type": "execute_result"
    }
   ],
   "source": [
    "T"
   ]
  },
  {
   "cell_type": "code",
   "execution_count": null,
   "metadata": {},
   "outputs": [],
   "source": []
  }
 ],
 "metadata": {
  "kernelspec": {
   "display_name": "SageMath 9.3",
   "language": "sage",
   "name": "sagemath"
  },
  "language_info": {
   "codemirror_mode": {
    "name": "ipython",
    "version": 3
   },
   "file_extension": ".py",
   "mimetype": "text/x-python",
   "name": "python",
   "nbconvert_exporter": "python",
   "pygments_lexer": "ipython3",
   "version": "3.7.10"
  }
 },
 "nbformat": 4,
 "nbformat_minor": 4
}
